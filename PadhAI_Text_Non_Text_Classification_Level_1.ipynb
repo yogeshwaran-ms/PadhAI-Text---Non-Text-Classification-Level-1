{
 "cells": [
  {
   "cell_type": "code",
   "execution_count": 1,
   "metadata": {
    "_uuid": "ebd524b00c49173e0415cb8889faed9701b07bc3"
   },
   "outputs": [],
   "source": [
    "import os\n",
    "import sys\n",
    "import pickle\n",
    "import numpy as np\n",
    "import pandas as pd\n",
    "from PIL import Image, ImageFilter\n",
    "from tqdm import tqdm_notebook\n",
    "from sklearn.preprocessing import StandardScaler\n",
    "from sklearn.preprocessing import MinMaxScaler\n",
    "from sklearn.metrics import accuracy_score, mean_squared_error, log_loss, confusion_matrix\n",
    "#from padhai import MPNeuron, Perceptron, PerceptronWithSigmoid\n",
    "import matplotlib.pyplot as plt\n",
    "import operator\n",
    "import json\n",
    "import warnings\n",
    "warnings.filterwarnings(\"ignore\")\n",
    "\n",
    "np.random.seed(100)\n",
    "LEVEL = 'level_1'"
   ]
  },
  {
   "cell_type": "code",
   "execution_count": 2,
   "metadata": {
    "_uuid": "cb407dcdbb5e4bfee08ce7ffb8c03619b17e971e"
   },
   "outputs": [],
   "source": [
    "def read_all(folder_path, key_prefix=\"\"):\n",
    "    '''\n",
    "    It returns a dictionary with 'file names' as keys and 'flattened image arrays' as values.\n",
    "    '''\n",
    "    print(\"Reading:\")\n",
    "    images = {}\n",
    "    files = os.listdir(folder_path)\n",
    "    for i, file_name in tqdm_notebook(enumerate(files), total=len(files)):\n",
    "        file_path = os.path.join(folder_path, file_name)\n",
    "        image_index = key_prefix + file_name[:-4]\n",
    "        image = Image.open(file_path)\n",
    "        image = image.convert(\"L\")\n",
    "        images[image_index] = np.array(image.copy()).flatten()\n",
    "        image.close()\n",
    "    return images"
   ]
  },
  {
   "cell_type": "markdown",
   "metadata": {
    "_uuid": "f28b7fa811cc518471b6bc287e1a1829b11dd779"
   },
   "source": [
    "## Reading the data"
   ]
  },
  {
   "cell_type": "code",
   "execution_count": 3,
   "metadata": {
    "_uuid": "77b35da299e4ce16fd2136fde8c0a395c172418f"
   },
   "outputs": [
    {
     "name": "stdout",
     "output_type": "stream",
     "text": [
      "Reading:\n"
     ]
    },
    {
     "name": "stderr",
     "output_type": "stream",
     "text": [
      "Widget Javascript not detected.  It may not be installed properly. Did you enable the widgetsnbextension? If not, then run \"jupyter nbextension enable --py --sys-prefix widgetsnbextension\"\n"
     ]
    },
    {
     "name": "stdout",
     "output_type": "stream",
     "text": [
      "\n",
      "Reading:\n"
     ]
    },
    {
     "name": "stderr",
     "output_type": "stream",
     "text": [
      "Widget Javascript not detected.  It may not be installed properly. Did you enable the widgetsnbextension? If not, then run \"jupyter nbextension enable --py --sys-prefix widgetsnbextension\"\n"
     ]
    },
    {
     "name": "stdout",
     "output_type": "stream",
     "text": [
      "\n",
      "Reading:\n"
     ]
    },
    {
     "name": "stderr",
     "output_type": "stream",
     "text": [
      "Widget Javascript not detected.  It may not be installed properly. Did you enable the widgetsnbextension? If not, then run \"jupyter nbextension enable --py --sys-prefix widgetsnbextension\"\n"
     ]
    },
    {
     "name": "stdout",
     "output_type": "stream",
     "text": [
      "\n",
      "Reading:\n"
     ]
    },
    {
     "name": "stderr",
     "output_type": "stream",
     "text": [
      "Widget Javascript not detected.  It may not be installed properly. Did you enable the widgetsnbextension? If not, then run \"jupyter nbextension enable --py --sys-prefix widgetsnbextension\"\n"
     ]
    },
    {
     "name": "stdout",
     "output_type": "stream",
     "text": [
      "\n",
      "900\n",
      "Reading:\n"
     ]
    },
    {
     "name": "stderr",
     "output_type": "stream",
     "text": [
      "Widget Javascript not detected.  It may not be installed properly. Did you enable the widgetsnbextension? If not, then run \"jupyter nbextension enable --py --sys-prefix widgetsnbextension\"\n"
     ]
    },
    {
     "name": "stdout",
     "output_type": "stream",
     "text": [
      "\n",
      "300\n"
     ]
    }
   ],
   "source": [
    "languages = ['ta', 'hi', 'en']\n",
    "\n",
    "# Change the file path\n",
    "images_train = read_all(\"C:/Users/yogeshwaran/Downloads/padhai-module1-level-1/level_1_train/level_1/background\", key_prefix='bgr_') # change the path\n",
    "for language in languages:\n",
    "    images_train.update(read_all(\"C:/Users/yogeshwaran/Downloads/padhai-module1-level-1/level_1_train/level_1/\"+language, key_prefix=language+\"_\" ))\n",
    "print(len(images_train))\n",
    "\n",
    "images_test = read_all(\"C:/Users/yogeshwaran/Downloads/padhai-module1-level-1/level_1_test/kaggle_level_1\", key_prefix='') # change the path\n",
    "print(len(images_test))"
   ]
  },
  {
   "cell_type": "code",
   "execution_count": 4,
   "metadata": {
    "_uuid": "3ccc1b899c96bf186e08e2fb90ffcea5a54b761d"
   },
   "outputs": [
    {
     "data": {
      "text/plain": [
       "['173', '88', '3', '87', '265']"
      ]
     },
     "execution_count": 4,
     "metadata": {},
     "output_type": "execute_result"
    }
   ],
   "source": [
    "list(images_test.keys())[:5]"
   ]
  },
  {
   "cell_type": "code",
   "execution_count": 5,
   "metadata": {
    "_uuid": "225d7ba8cd056c83229bf1695fde868dbe082fa7"
   },
   "outputs": [
    {
     "name": "stdout",
     "output_type": "stream",
     "text": [
      "(900, 256) (900,)\n",
      "(300, 256)\n"
     ]
    }
   ],
   "source": [
    "X_train = []\n",
    "Y_train = []\n",
    "for key, value in images_train.items():\n",
    "    X_train.append(value)\n",
    "    if key[:4] == \"bgr_\":\n",
    "        Y_train.append(0)\n",
    "    else:\n",
    "        Y_train.append(1)\n",
    "\n",
    "ID_test = []\n",
    "X_test = []\n",
    "for key, value in images_test.items():\n",
    "    ID_test.append(int(key))\n",
    "    X_test.append(value)\n",
    "\n",
    "X_train = np.array(X_train)\n",
    "Y_train = np.array(Y_train)\n",
    "X_test = np.array(X_test)\n",
    "\n",
    "print(X_train.shape, Y_train.shape)\n",
    "print(X_test.shape)"
   ]
  },
  {
   "cell_type": "code",
   "execution_count": 6,
   "metadata": {
    "_uuid": "006a13ed9c7b212cbd7ffe009f08eecb3a2d2f23"
   },
   "outputs": [],
   "source": [
    "scaler = MinMaxScaler()\n",
    "X_scaled_train = scaler.fit_transform(X_train)\n",
    "X_scaled_test = scaler.transform(X_test)"
   ]
  },
  {
   "cell_type": "code",
   "execution_count": 7,
   "metadata": {
    "_uuid": "9d1fd7e8e2b00ef2099acdbb73618590e1d06e99"
   },
   "outputs": [
    {
     "data": {
      "text/plain": [
       "(900, 256)"
      ]
     },
     "execution_count": 7,
     "metadata": {},
     "output_type": "execute_result"
    }
   ],
   "source": [
    "X_scaled_train.shape"
   ]
  },
  {
   "cell_type": "code",
   "execution_count": 8,
   "metadata": {
    "_uuid": "f92976f1b662b9921494133ddff00272538eced3"
   },
   "outputs": [],
   "source": [
    "def binarise_data(X):\n",
    "    x_binarised_data = []\n",
    "    for x in X:\n",
    "        x_temp = []\n",
    "        for i in x:\n",
    "            if i == 1:\n",
    "                x_temp.append(0)\n",
    "            else:\n",
    "                x_temp.append(1)\n",
    "        x_binarised_data.append(x_temp)\n",
    "    return np.array(x_binarised_data)"
   ]
  },
  {
   "cell_type": "code",
   "execution_count": 9,
   "metadata": {
    "_uuid": "39e88517b97865278a161d685286e0bc858296e0"
   },
   "outputs": [],
   "source": [
    "X_binarised_train = binarise_data(X_scaled_train)\n",
    "X_binarised_test = binarise_data(X_scaled_test)"
   ]
  },
  {
   "cell_type": "markdown",
   "metadata": {
    "_uuid": "1cbc33f3b02da7d0bc7e200d5dc1d77937c2a724"
   },
   "source": [
    "## Since the data is linearly separable, I use MPneuron model."
   ]
  },
  {
   "cell_type": "code",
   "execution_count": 10,
   "metadata": {
    "_uuid": "dd4ec59f02f693a7954f697b56f07023cd4bd4df"
   },
   "outputs": [],
   "source": [
    "class MPNeuron:\n",
    "    \n",
    "    def __init__(self):\n",
    "        self.theta = None\n",
    "        \n",
    "    def mp_neuron(self, x):\n",
    "        if sum(x) >= self.theta:\n",
    "            return 1\n",
    "        return 0\n",
    "    \n",
    "    def fit_brute_force(self, X, Y):\n",
    "        accuracy = {}\n",
    "        for theta in tqdm_notebook(range(0, X.shape[1]+1), total=X.shape[1]+1):\n",
    "            self.theta = theta\n",
    "            Y_pred = self.predict(X)\n",
    "            accuracy[theta] = accuracy_score(Y, Y_pred)  \n",
    "            \n",
    "        sorted_accuracy = sorted(accuracy.items(), key=operator.itemgetter(1), reverse=True)\n",
    "        best_theta, best_accuracy = sorted_accuracy[0]\n",
    "        self.theta = best_theta\n",
    "        \n",
    "    def fit(self, X, Y, epochs=10, log=False, display_plot=False):\n",
    "        self.theta = (X.shape[1]+1)//2\n",
    "        if log or display_plot:\n",
    "            accuracy = {}\n",
    "        for i in tqdm_notebook(range(epochs), total=epochs, unit=\"epoch\"):\n",
    "            Y_pred = self.predict(X)\n",
    "            tn, fp, fn, tp = confusion_matrix(Y, Y_pred).ravel()\n",
    "            if fp > fn and self.theta <= X.shape[1]:\n",
    "                self.theta += 1\n",
    "            elif fp < fn and self.theta >= 1:\n",
    "                self.theta -= 1\n",
    "            else:\n",
    "                continue\n",
    "                \n",
    "            if log or display_plot:\n",
    "                Y_pred = self.predict(X)\n",
    "                accuracy[i] = accuracy_score(Y, Y_pred)\n",
    "        if log:\n",
    "            with open('mp_neuron_accuracy.json', 'w') as fp:\n",
    "                json.dump(accuracy, fp)\n",
    "        if display_plot:\n",
    "            epochs_, accuracy_ = zip(*accuracy.items())\n",
    "            plt.plot(epochs_, accuracy_)\n",
    "            plt.xlabel(\"Epochs\")\n",
    "            plt.ylabel(\"Train Accuracy\")\n",
    "            plt.show()\n",
    "    \n",
    "    def predict(self, X):\n",
    "        Y = []\n",
    "        for x in X:\n",
    "            result = self.mp_neuron(x)\n",
    "            Y.append(result)\n",
    "        return np.array(Y)"
   ]
  },
  {
   "cell_type": "code",
   "execution_count": 11,
   "metadata": {
    "_uuid": "33acb6b3ab67bd568ec7968d8ae62dc7e1ca7944"
   },
   "outputs": [
    {
     "name": "stderr",
     "output_type": "stream",
     "text": [
      "Widget Javascript not detected.  It may not be installed properly. Did you enable the widgetsnbextension? If not, then run \"jupyter nbextension enable --py --sys-prefix widgetsnbextension\"\n"
     ]
    },
    {
     "name": "stdout",
     "output_type": "stream",
     "text": [
      "\n"
     ]
    }
   ],
   "source": [
    "mpneuron = MPNeuron()\n",
    "mpneuron.fit_brute_force(X_binarised_train,Y_train)"
   ]
  },
  {
   "cell_type": "code",
   "execution_count": 12,
   "metadata": {
    "_uuid": "270aeaf03902ade7ead4288346e59c7231e7263f"
   },
   "outputs": [
    {
     "data": {
      "text/plain": [
       "1.0"
      ]
     },
     "execution_count": 12,
     "metadata": {},
     "output_type": "execute_result"
    }
   ],
   "source": [
    "accuracy_score(mpneuron.predict(X_binarised_train),Y_train)"
   ]
  },
  {
   "cell_type": "code",
   "execution_count": 13,
   "metadata": {
    "_uuid": "768f0d190e4f9cc52aad073b6c6272b657746d6e"
   },
   "outputs": [
    {
     "data": {
      "text/plain": [
       "array([[450,   0],\n",
       "       [  0, 450]], dtype=int64)"
      ]
     },
     "execution_count": 13,
     "metadata": {},
     "output_type": "execute_result"
    }
   ],
   "source": [
    "confusion_matrix(mpneuron.predict(X_binarised_train),Y_train)"
   ]
  },
  {
   "cell_type": "markdown",
   "metadata": {
    "_uuid": "810ad6dc362c50222d4575f4f7e2ae646d3dfcce"
   },
   "source": [
    "## Sample Submission"
   ]
  },
  {
   "cell_type": "code",
   "execution_count": 14,
   "metadata": {
    "_uuid": "449a7abdf7b47364f6468b75c3b1e565b8100553"
   },
   "outputs": [],
   "source": [
    "Y_pred_test = mpneuron.predict(X_binarised_test)\n",
    "\n",
    "submission = {}\n",
    "submission['ImageId'] = ID_test\n",
    "submission['Class'] = Y_pred_test\n",
    "\n",
    "submission = pd.DataFrame(submission)\n",
    "submission = submission[['ImageId', 'Class']]\n",
    "submission = submission.sort_values(['ImageId'])\n",
    "submission.to_csv(\"submisision_level.csv\", index=False)"
   ]
  },
  {
   "cell_type": "code",
   "execution_count": null,
   "metadata": {
    "_uuid": "d6b363726bc02e05fee05c21defa14d79b9fc6d0"
   },
   "outputs": [],
   "source": []
  }
 ],
 "metadata": {
  "kernelspec": {
   "display_name": "Python 3",
   "language": "python",
   "name": "python3"
  },
  "language_info": {
   "codemirror_mode": {
    "name": "ipython",
    "version": 3
   },
   "file_extension": ".py",
   "mimetype": "text/x-python",
   "name": "python",
   "nbconvert_exporter": "python",
   "pygments_lexer": "ipython3",
   "version": "3.5.6"
  }
 },
 "nbformat": 4,
 "nbformat_minor": 1
}
